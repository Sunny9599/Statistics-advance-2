{
  "nbformat": 4,
  "nbformat_minor": 0,
  "metadata": {
    "colab": {
      "provenance": []
    },
    "kernelspec": {
      "name": "python3",
      "display_name": "Python 3"
    },
    "language_info": {
      "name": "python"
    }
  },
  "cells": [
    {
      "cell_type": "markdown",
      "source": [
        "# Theory Questions"
      ],
      "metadata": {
        "id": "McK_svOrI0o6"
      }
    },
    {
      "cell_type": "markdown",
      "source": [
        "1. What is hypothesis testing in statistics?"
      ],
      "metadata": {
        "id": "NHBosKpbJMiS"
      }
    },
    {
      "cell_type": "markdown",
      "source": [
        "Statistical hypothesis testing is a method used to determine if there's enough evidence in a sample to draw conclusions about a population, involving formulating a null and alternative hypothesis, collecting data, and assessing the evidence against the null hypothesis."
      ],
      "metadata": {
        "id": "1IWkuPGiJclq"
      }
    },
    {
      "cell_type": "markdown",
      "source": [
        "2. What is the null hypothesis, and how does it differ from the alternative hypothesis?"
      ],
      "metadata": {
        "id": "KaBnpnJqJ5mH"
      }
    },
    {
      "cell_type": "markdown",
      "source": [
        "In hypothesis testing, the null hypothesis (H0) assumes no effect or difference, while the alternative hypothesis (H1 or Ha) proposes an effect or difference exists, and is accepted if evidence rejects the null hypothesis."
      ],
      "metadata": {
        "id": "OlbI_uxzKG9r"
      }
    },
    {
      "cell_type": "markdown",
      "source": [
        "3. What is the significance level in hypothesis testing, and why is it important?"
      ],
      "metadata": {
        "id": "X6TYC2erKmoi"
      }
    },
    {
      "cell_type": "markdown",
      "source": [
        "In hypothesis testing, the significance level (often denoted as α or alpha) is the probability of rejecting the null hypothesis when it is actually true, representing the risk of making a Type I error. It's crucial because it sets the threshold for determining statistical significance, guiding researchers in deciding whether to reject or fail to reject the null hypothesis."
      ],
      "metadata": {
        "id": "QhoknVraKxSh"
      }
    },
    {
      "cell_type": "markdown",
      "source": [
        "4. What does a P-value represent in hypothesis testing?"
      ],
      "metadata": {
        "id": "tSV8vMPhLCc-"
      }
    },
    {
      "cell_type": "markdown",
      "source": [
        "In hypothesis testing, a p-value represents the probability of obtaining results as extreme as, or more extreme than, the observed results, assuming the null hypothesis is true. It essentially measures the strength of evidence against the null hypothesis."
      ],
      "metadata": {
        "id": "SE9qEds1LMJA"
      }
    },
    {
      "cell_type": "markdown",
      "source": [
        "5. How do you interpret the P-value in hypothesis testing?"
      ],
      "metadata": {
        "id": "AjpS2KK3Ld4G"
      }
    },
    {
      "cell_type": "markdown",
      "source": [
        "In hypothesis testing, the p-value indicates the probability of observing results as extreme as, or more extreme than, the ones obtained, assuming the null hypothesis is true. A small p-value (typically less than 0.05) suggests strong evidence against the null hypothesis, leading to its rejection in favor of the alternative hypothesis."
      ],
      "metadata": {
        "id": "7yIFiUzPLoHG"
      }
    },
    {
      "cell_type": "markdown",
      "source": [
        "6. What are Type 1 and Type 2 errors in hypothesis testing?"
      ],
      "metadata": {
        "id": "WLRh6CQIL1r0"
      }
    },
    {
      "cell_type": "markdown",
      "source": [
        "In hypothesis testing, a Type I error (false positive) occurs when you reject a true null hypothesis, while a Type II error (false negative) occurs when you fail to reject a false null hypothesis.\n",
        "\n",
        "Type I Error (False Positive):\n",
        "\n",
        ">Definition: Rejecting the null hypothesis when it is actually true.\n",
        "\n",
        ">Example: You conclude that a new drug is effective when, in reality, it has no\n",
        " effect.\n",
        "\n",
        ">Also known as: False positive.\n",
        "\n",
        ">Probability: The probability of committing a Type I error is denoted by alpha\n",
        " (α).\n",
        "\n",
        "Type II Error (False Negative):\n",
        "\n",
        ">Definition: Failing to reject the null hypothesis when it is actually false.\n",
        "\n",
        ">Example: You fail to detect a significant effect of a new drug when, in\n",
        " reality, it is effective.\n",
        "\n",
        ">Also known as: False negative.\n",
        "\n",
        ">Probability: The probability of committing a Type II error is denoted by beta\n",
        " (β)."
      ],
      "metadata": {
        "id": "KP12g-b5MWfP"
      }
    },
    {
      "cell_type": "markdown",
      "source": [
        "7. What is the difference between a one-tailed and a two-tailed test in hypothesis testing?"
      ],
      "metadata": {
        "id": "LvLOdtEXMYV1"
      }
    },
    {
      "cell_type": "markdown",
      "source": [
        "In hypothesis testing, a one-tailed test checks for a difference in one specific direction (e.g., greater than or less than), while a two-tailed test checks for a difference in either direction (greater or less than, or just \"different\")."
      ],
      "metadata": {
        "id": "gNHR-QCbNRg1"
      }
    },
    {
      "cell_type": "markdown",
      "source": [
        "8. What is the Z-test, and when is it used in hypothesis testing?"
      ],
      "metadata": {
        "id": "luBpWEIONf81"
      }
    },
    {
      "cell_type": "markdown",
      "source": [
        "A Z-test is a statistical test used to determine if there's a significant difference between a sample mean and a population mean or between the means of two populations when the population standard deviation is known or the sample size is large, typically greater than 30."
      ],
      "metadata": {
        "id": "t-LbUDJQNpaP"
      }
    },
    {
      "cell_type": "markdown",
      "source": [
        "9. How do you calculate the Z-score, and what does it represent in hypothesis testing?"
      ],
      "metadata": {
        "id": "X-lFck4wN4CH"
      }
    },
    {
      "cell_type": "markdown",
      "source": [
        "To calculate a z-score, you subtract the population mean from a raw score and divide by the population standard deviation. In hypothesis testing, a z-score indicates how many standard deviations a data point is from the mean, helping determine if a sample is significantly different from a population.\n",
        "\n",
        "The Z-Score Formula:\n",
        ">The formula for calculating a z-score is: z = (x - μ) / σ\n",
        ">>Where:\n",
        ">>z: is the z-score\n",
        "\n",
        ">>x: is the raw score (the data point you want to convert to a z-score)\n",
        "\n",
        ">>μ (mu): is the population mean\n",
        "\n",
        ">>σ (sigma): is the population standard deviation"
      ],
      "metadata": {
        "id": "8JFDpnvwOH-7"
      }
    },
    {
      "cell_type": "markdown",
      "source": [
        "10. What is the T-distribution, and when should it be used instead of the normal distribution?"
      ],
      "metadata": {
        "id": "O2kcQFJnOSYG"
      }
    },
    {
      "cell_type": "markdown",
      "source": [
        "The t-distribution, also known as Student's t-distribution, is a probability distribution similar to the normal distribution but with heavier tails, used when estimating population parameters from small samples or when the population standard deviation is unknown. You should use the t-distribution instead of the normal distribution when the sample size is small (typically less than 30) and the population standard deviation is unknown."
      ],
      "metadata": {
        "id": "pAlZJDDzO24s"
      }
    },
    {
      "cell_type": "markdown",
      "source": [
        "11. What is the difference between a Z-test and a T-test?"
      ],
      "metadata": {
        "id": "gj837fj9PyNb"
      }
    },
    {
      "cell_type": "markdown",
      "source": [
        "The main difference between a Z-test and a T-test lies in the sample size and knowledge of population standard deviation. Z-tests are used for large samples (n > 30) or when the population standard deviation is known, while T-tests are used for smaller samples (n < 30) or when the population standard deviation is unknown."
      ],
      "metadata": {
        "id": "l1zoy8AuP8BJ"
      }
    },
    {
      "cell_type": "markdown",
      "source": [
        "12. What is the T-test, and how is it used in hypothesis testing?"
      ],
      "metadata": {
        "id": "DjJedV5NQJSs"
      }
    },
    {
      "cell_type": "markdown",
      "source": [
        "A t-test is a statistical test used to determine if there's a significant difference between the means of two groups, and it's a crucial tool in hypothesis testing to evaluate whether a process or treatment has an effect on a population."
      ],
      "metadata": {
        "id": "66XHuH3oQUcz"
      }
    },
    {
      "cell_type": "markdown",
      "source": [
        "13. What is the relationship between Z-test and T-test in hypothesis testing?"
      ],
      "metadata": {
        "id": "yi2Y810PQe9L"
      }
    },
    {
      "cell_type": "markdown",
      "source": [
        "Z-tests and t-tests are both used in hypothesis testing to determine if there's a statistically significant difference between groups or variables, but they differ in their assumptions about the population standard deviation and sample size. Z-tests are used when the population standard deviation is known, or when the sample size is large (n > 30), while t-tests are used when the population standard deviation is unknown, or when the sample size is small (n < 30)."
      ],
      "metadata": {
        "id": "YEhb4-zOQkeb"
      }
    },
    {
      "cell_type": "markdown",
      "source": [
        "14. What is a confidence interval, and how is it used to interpret statistical results?"
      ],
      "metadata": {
        "id": "h7CcewJfQpSN"
      }
    },
    {
      "cell_type": "markdown",
      "source": [
        "A confidence interval is a range of values within which a population parameter (like a mean) is likely to fall, based on a sample, with a certain level of confidence, typically 95%. It helps quantify the uncertainty surrounding a sample estimate and is used to interpret statistical results, particularly in hypothesis testing."
      ],
      "metadata": {
        "id": "g3evAZo8Q2uM"
      }
    },
    {
      "cell_type": "markdown",
      "source": [
        "15. What is the margin of error, and how does it affect the confidence interval?"
      ],
      "metadata": {
        "id": "H4VCoHl6Q4Xu"
      }
    },
    {
      "cell_type": "markdown",
      "source": [
        "The margin of error (MOE) quantifies the potential difference between a sample statistic and the true population parameter, and it's half the width of a confidence interval (CI). A smaller MOE indicates a more precise estimate, while a larger MOE suggests greater uncertainty."
      ],
      "metadata": {
        "id": "0OWfIgUPQ_pB"
      }
    },
    {
      "cell_type": "markdown",
      "source": [
        "16. How is Bayes' Theorem used in statistics, and what is its significance?"
      ],
      "metadata": {
        "id": "opeEX2SxRM5V"
      }
    },
    {
      "cell_type": "markdown",
      "source": [
        "Bayes' Theorem, a fundamental concept in statistics and probability, allows you to update the probability of a hypothesis based on new evidence, moving from prior to posterior probabilities. Its significance lies in its ability to handle uncertainty and make more informed decisions by incorporating new information."
      ],
      "metadata": {
        "id": "D2KWstSIRWqu"
      }
    },
    {
      "cell_type": "markdown",
      "source": [
        "17. What is the Chi-square distribution, and when is it used?"
      ],
      "metadata": {
        "id": "5usRuT1DRgxh"
      }
    },
    {
      "cell_type": "markdown",
      "source": [
        "The chi-square distribution is a continuous probability distribution used in statistical hypothesis testing, particularly for analyzing categorical data, with two common applications being the chi-square goodness-of-fit test and the chi-square test of independence."
      ],
      "metadata": {
        "id": "dlNgWoyJRlze"
      }
    },
    {
      "cell_type": "markdown",
      "source": [
        "18. What is the Chi-square goodness of fit test, and how is it applied?"
      ],
      "metadata": {
        "id": "3bZUUpDgR3yp"
      }
    },
    {
      "cell_type": "markdown",
      "source": [
        "The chi-square goodness-of-fit test determines how well a sample data distribution fits a hypothesized population distribution by comparing observed frequencies to expected frequencies. It's a non-parametric test used to assess the fit of a statistical model to a set of observations."
      ],
      "metadata": {
        "id": "5FXAttPgR85C"
      }
    },
    {
      "cell_type": "markdown",
      "source": [
        "19. What is the F-distribution, and when is it used in hypothesis testing?"
      ],
      "metadata": {
        "id": "zF60dTy0SCXm"
      }
    },
    {
      "cell_type": "markdown",
      "source": [
        "The F-distribution is a continuous probability distribution used in hypothesis testing, particularly for comparing variances of two or more populations, and is commonly used in the F-test and ANOVA (Analysis of Variance)."
      ],
      "metadata": {
        "id": "jRvhJqtFSOdU"
      }
    },
    {
      "cell_type": "markdown",
      "source": [
        "20. What is an ANOVA test, and what are its assumptions?"
      ],
      "metadata": {
        "id": "s4_pADLfSP0b"
      }
    },
    {
      "cell_type": "markdown",
      "source": [
        "ANOVA (Analysis of Variance) is a statistical test used to compare the means of three or more groups, determining if there are significant differences between them, while its key assumptions are normality, independence of observations, and homogeneity of variance."
      ],
      "metadata": {
        "id": "w0hSU7RSSWIe"
      }
    },
    {
      "cell_type": "markdown",
      "source": [
        "21. What are the different types of ANOVA tests?"
      ],
      "metadata": {
        "id": "jUvlgJpPSXW6"
      }
    },
    {
      "cell_type": "markdown",
      "source": [
        "The main types of ANOVA tests are one-way ANOVA, two-way ANOVA, and repeated measures ANOVA, with one-way ANOVA comparing means of three or more independent groups, two-way ANOVA examining two independent variables and their interaction, and repeated measures ANOVA comparing means of the same group at different time points."
      ],
      "metadata": {
        "id": "NtcjtAWSSXwW"
      }
    },
    {
      "cell_type": "markdown",
      "source": [
        "22. What is the F-test, and how does it relate to hypothesis testing?"
      ],
      "metadata": {
        "id": "ihol3_hxSo1Z"
      }
    },
    {
      "cell_type": "markdown",
      "source": [
        "The F-test, a statistical test used in hypothesis testing, compares variances between two or more groups, using the F-statistic, which follows an F-distribution, to determine if there's a significant difference in the means of those groups."
      ],
      "metadata": {
        "id": "o4zuyufISwm3"
      }
    },
    {
      "cell_type": "markdown",
      "source": [
        "# Practical Questions"
      ],
      "metadata": {
        "id": "KM3R3XEAS6RT"
      }
    },
    {
      "cell_type": "markdown",
      "source": [
        "1. Write a Python program to perform a Z-test for comparing a sample mean to a known population mean and\n",
        "interpret the results."
      ],
      "metadata": {
        "id": "D0VxGm7gTDrT"
      }
    },
    {
      "cell_type": "code",
      "execution_count": null,
      "metadata": {
        "colab": {
          "base_uri": "https://localhost:8080/"
        },
        "id": "SdcmjjhIIic-",
        "outputId": "f18abfb4-9d85-4eba-8d97-6a446455e4f4"
      },
      "outputs": [
        {
          "output_type": "execute_result",
          "data": {
            "text/plain": [
              "{'z_score': np.float64(0.31622776601684244),\n",
              " 'p_value': np.float64(0.7518296340458459),\n",
              " 'conclusion': 'Fail to reject the null hypothesis. There is not enough evidence to conclude that the sample mean is significantly different from the population mean.'}"
            ]
          },
          "metadata": {},
          "execution_count": 32
        }
      ],
      "source": [
        "import numpy as np\n",
        "from scipy.stats import norm\n",
        "\n",
        "def z_test(sample, population_mean, population_std):\n",
        "    \"\"\"\n",
        "    Performs a one-sample Z-test.\n",
        "\n",
        "    Args:\n",
        "        sample: A list or numpy array of sample data.\n",
        "        population_mean: The population mean.\n",
        "        population_std: The population standard deviation.\n",
        "\n",
        "    Returns:\n",
        "        A dictionary containing the Z-score, p-value, and a conclusion.\n",
        "    \"\"\"\n",
        "    sample_mean = np.mean(sample)\n",
        "    sample_size = len(sample)\n",
        "    standard_error = population_std / np.sqrt(sample_size)\n",
        "    z_score = (sample_mean - population_mean) / standard_error\n",
        "    p_value = 2 * (1 - norm.cdf(abs(z_score))) # two-tailed test\n",
        "\n",
        "    alpha = 0.05 # significance level\n",
        "\n",
        "    conclusion = \"\"\n",
        "    if p_value < alpha:\n",
        "        conclusion = \"Reject the null hypothesis. There is sufficient evidence to conclude that the sample mean is significantly different from the population mean.\"\n",
        "    else:\n",
        "        conclusion = \"Fail to reject the null hypothesis. There is not enough evidence to conclude that the sample mean is significantly different from the population mean.\"\n",
        "\n",
        "    return {\"z_score\": z_score, \"p_value\": p_value, \"conclusion\": conclusion}\n",
        "\n",
        "\n",
        "# Example usage\n",
        "sample_data = [65, 70, 72, 68, 71, 69, 73, 67, 75, 74]\n",
        "population_mean = 70\n",
        "population_std = 4\n",
        "\n",
        "results = z_test(sample_data, population_mean, population_std)\n",
        "results\n"
      ]
    },
    {
      "cell_type": "markdown",
      "source": [
        "2. Simulate random data to perform hypothesis testing and calculate the corresponding P-value using Python."
      ],
      "metadata": {
        "id": "5uPAzXGcR-Rl"
      }
    },
    {
      "cell_type": "code",
      "source": [
        "import numpy as np\n",
        "from scipy.stats import ttest_ind\n",
        "\n",
        "# Simulate two random samples\n",
        "np.random.seed(42)  # for reproducibility\n",
        "sample1 = np.random.normal(loc=10, scale=2, size=50)\n",
        "sample2 = np.random.normal(loc=12, scale=2, size=50)\n",
        "\n",
        "# Perform an independent two-sample t-test\n",
        "t_statistic, p_value = ttest_ind(sample1, sample2)\n",
        "\n",
        "print(f\"T-statistic: {t_statistic}\")\n",
        "print(f\"P-value: {p_value}\")\n",
        "\n",
        "# Interpret the p-value\n",
        "alpha = 0.05\n",
        "if p_value < alpha:\n",
        "    print(\"Reject the null hypothesis. There is a statistically significant difference between the means of the two samples.\")\n",
        "else:\n",
        "    print(\"Fail to reject the null hypothesis. There is no statistically significant difference between the means of the two samples.\")\n"
      ],
      "metadata": {
        "id": "wMCta05HT8jw",
        "colab": {
          "base_uri": "https://localhost:8080/"
        },
        "outputId": "c76bc1f8-0bfc-4e01-a0d0-12a7b41c607d"
      },
      "execution_count": null,
      "outputs": [
        {
          "output_type": "stream",
          "name": "stdout",
          "text": [
            "T-statistic: -6.872731683285841\n",
            "P-value: 5.877565294167719e-10\n",
            "Reject the null hypothesis. There is a statistically significant difference between the means of the two samples.\n"
          ]
        }
      ]
    },
    {
      "cell_type": "markdown",
      "source": [
        "3. Implement a one-sample Z-test using Python to compare the sample mean with the population mean."
      ],
      "metadata": {
        "id": "gCrO5pdZSh8-"
      }
    },
    {
      "cell_type": "code",
      "source": [
        "import numpy as np\n",
        "from scipy.stats import norm\n",
        "\n",
        "def one_sample_z_test(sample, population_mean, population_std, alpha=0.05):\n",
        "    \"\"\"\n",
        "    Performs a one-sample Z-test.\n",
        "\n",
        "    Args:\n",
        "        sample: A list or numpy array of sample data.\n",
        "        population_mean: The population mean.\n",
        "        population_std: The population standard deviation.\n",
        "        alpha: Significance level (default is 0.05).\n",
        "\n",
        "    Returns:\n",
        "        A dictionary containing the Z-score, p-value, and a conclusion.\n",
        "    \"\"\"\n",
        "    sample_mean = np.mean(sample)\n",
        "    sample_size = len(sample)\n",
        "    standard_error = population_std / np.sqrt(sample_size)\n",
        "    z_score = (sample_mean - population_mean) / standard_error\n",
        "    p_value = 2 * (1 - norm.cdf(abs(z_score)))  # Two-tailed test\n",
        "\n",
        "    conclusion = \"Fail to reject the null hypothesis.\"\n",
        "    if p_value < alpha:\n",
        "        conclusion = \"Reject the null hypothesis.\"\n",
        "\n",
        "    return {\"z_score\": z_score, \"p_value\": p_value, \"conclusion\": conclusion}\n",
        "\n",
        "    # Sample data\n",
        "sample_data = [65, 70, 72, 68, 71, 69, 73, 67, 75, 74]\n",
        "\n",
        "# Population parameters\n",
        "population_mean = 70\n",
        "population_std = 4\n",
        "\n",
        "# Significance level\n",
        "alpha = 0.05\n",
        "\n",
        "# Perform the one-sample Z-test\n",
        "results = one_sample_z_test(sample_data, population_mean, population_std, alpha)\n",
        "\n",
        "# Print the results\n",
        "print(results)\n"
      ],
      "metadata": {
        "colab": {
          "base_uri": "https://localhost:8080/"
        },
        "id": "TYeJthwHSaCJ",
        "outputId": "54e2da69-b5a2-4a41-c206-6ff110930632"
      },
      "execution_count": null,
      "outputs": [
        {
          "output_type": "stream",
          "name": "stdout",
          "text": [
            "{'z_score': np.float64(0.31622776601684244), 'p_value': np.float64(0.7518296340458459), 'conclusion': 'Fail to reject the null hypothesis.'}\n"
          ]
        }
      ]
    },
    {
      "cell_type": "markdown",
      "source": [
        "4. Perform a two-tailed Z-test using Python and visualize the decision region on a plot."
      ],
      "metadata": {
        "id": "C0rR4Ve6UE4n"
      }
    },
    {
      "cell_type": "code",
      "source": [
        "import numpy as np\n",
        "import matplotlib.pyplot as plt\n",
        "from scipy.stats import norm\n",
        "\n",
        "def two_tailed_z_test(sample_mean, population_mean, population_std, sample_size, alpha=0.05):\n",
        "    \"\"\"\n",
        "    Performs a two-tailed Z-test and visualizes the decision region.\n",
        "\n",
        "    Args:\n",
        "        sample_mean: The sample mean.\n",
        "        population_mean: The population mean.\n",
        "        population_std: The population standard deviation.\n",
        "        sample_size: The sample size.\n",
        "        alpha: Significance level (default is 0.05).\n",
        "    \"\"\"\n",
        "\n",
        "    # Calculate the standard error\n",
        "    standard_error = population_std / np.sqrt(sample_size)\n",
        "\n",
        "    # Calculate the Z-score\n",
        "    z_score = (sample_mean - population_mean) / standard_error\n",
        "\n",
        "    # Calculate the p-value (two-tailed test)\n",
        "    p_value = 2 * (1 - norm.cdf(abs(z_score)))\n",
        "\n",
        "    # Determine the critical values\n",
        "    critical_value = norm.ppf(1 - alpha / 2)\n",
        "\n",
        "    # Print the results\n",
        "    print(f\"Z-score: {z_score}\")\n",
        "    print(f\"P-value: {p_value}\")\n",
        "    print(f\"Critical Value: {critical_value}\")\n",
        "\n",
        "    # Visualize the decision region\n",
        "    x = np.linspace(-4, 4, 100)\n",
        "    y = norm.pdf(x, 0, 1)\n",
        "    plt.plot(x, y)\n",
        "\n",
        "    # Shade the rejection regions\n",
        "    plt.fill_between(x, y, where=(x < -critical_value) | (x > critical_value), color='red', alpha=0.5)\n",
        "\n",
        "    # Plot the Z-score\n",
        "    plt.scatter(z_score, 0, color='black', marker='o', s=50, label='Z-score')\n",
        "\n",
        "    # Add labels and title\n",
        "    plt.xlabel('Z-score')\n",
        "    plt.ylabel('Probability Density')\n",
        "    plt.title('Two-tailed Z-test Decision Region')\n",
        "    plt.legend()\n",
        "\n",
        "    # Show the plot\n",
        "    plt.show()\n",
        "\n",
        "\n",
        "\n",
        "    # Sample data\n",
        "sample_mean = 72\n",
        "population_mean = 70\n",
        "population_std = 4\n",
        "sample_size = 30\n",
        "alpha = 0.05\n",
        "\n",
        "# Perform the two-tailed Z-test and visualize the decision region\n",
        "two_tailed_z_test(sample_mean, population_mean, population_std, sample_size, alpha)"
      ],
      "metadata": {
        "colab": {
          "base_uri": "https://localhost:8080/",
          "height": 524
        },
        "id": "QAjc-MnFTiy0",
        "outputId": "5a29d599-7038-4cec-d12a-073c077cb2e1"
      },
      "execution_count": null,
      "outputs": [
        {
          "output_type": "stream",
          "name": "stdout",
          "text": [
            "Z-score: 2.7386127875258306\n",
            "P-value: 0.0061698993205441255\n",
            "Critical Value: 1.959963984540054\n"
          ]
        },
        {
          "output_type": "display_data",
          "data": {
            "text/plain": [
              "<Figure size 640x480 with 1 Axes>"
            ],
            "image/png": "[encoded data removed]"
          },
          "metadata": {}
        }
      ]
    },
    {
      "cell_type": "markdown",
      "source": [
        "5. Create a Python function that calculates and visualizes Type 1 and Type 2 errors during hypothesis testing."
      ],
      "metadata": {
        "id": "M-0a418JUpFb"
      }
    },
    {
      "cell_type": "code",
      "source": [
        "import numpy as np\n",
        "import matplotlib.pyplot as plt\n",
        "from scipy.stats import norm\n",
        "\n",
        "def visualize_errors(mu0, mu1, sigma, n, alpha):\n",
        "    \"\"\"\n",
        "    Calculates and visualizes Type 1 and Type 2 errors for a one-tailed Z-test.\n",
        "\n",
        "    Args:\n",
        "        mu0: Population mean under the null hypothesis.\n",
        "        mu1: Population mean under the alternative hypothesis.\n",
        "        sigma: Population standard deviation.\n",
        "        n: Sample size.\n",
        "        alpha: Significance level.\n",
        "    \"\"\"\n",
        "\n",
        "    # Calculate the critical value\n",
        "    critical_value = norm.ppf(1 - alpha) * sigma / np.sqrt(n) + mu0\n",
        "\n",
        "    # Calculate Type 1 error (alpha)\n",
        "    type1_error = 1 - norm.cdf(critical_value, loc=mu0, scale=sigma / np.sqrt(n))\n",
        "\n",
        "    # Calculate Type 2 error (beta)\n",
        "    type2_error = norm.cdf(critical_value, loc=mu1, scale=sigma / np.sqrt(n))\n",
        "\n",
        "    # Create the plot\n",
        "    x = np.linspace(mu0 - 4 * sigma / np.sqrt(n), mu1 + 4 * sigma / np.sqrt(n), 1000)\n",
        "    plt.plot(x, norm.pdf(x, loc=mu0, scale=sigma / np.sqrt(n)), label='Null Hypothesis')\n",
        "    plt.plot(x, norm.pdf(x, loc=mu1, scale=sigma / np.sqrt(n)), label='Alternative Hypothesis')\n",
        "\n",
        "    # Shade the Type 1 error region\n",
        "    plt.fill_between(x, norm.pdf(x, loc=mu0, scale=sigma / np.sqrt(n)),\n",
        "                     where=(x > critical_value), color='red', alpha=0.5, label='Type 1 Error')\n",
        "\n",
        "    # Shade the Type 2 error region\n",
        "    plt.fill_between(x, norm.pdf(x, loc=mu1, scale=sigma / np.sqrt(n)),\n",
        "                     where=(x < critical_value), color='blue', alpha=0.5, label='Type 2 Error')\n",
        "\n",
        "    plt.axvline(x=critical_value, color='black', linestyle='--', label='Critical Value')\n",
        "    plt.legend()\n",
        "    plt.title('Type 1 and Type 2 Errors')\n",
        "    plt.xlabel('Sample Mean')\n",
        "    plt.ylabel('Probability Density')\n",
        "    plt.show()\n",
        "\n",
        "    # Print the results\n",
        "    print(f\"Type 1 Error (alpha): {type1_error:.4f}\")\n",
        "    print(f\"Type 2 Error (beta): {type2_error:.4f}\")\n",
        "\n",
        "\n",
        "\n",
        "    # Set parameters\n",
        "mu0 = 0  # Population mean under the null hypothesis\n",
        "mu1 = 1  # Population mean under the alternative hypothesis\n",
        "sigma = 1  # Population standard deviation\n",
        "n = 25  # Sample size\n",
        "alpha = 0.05  # Significance level\n",
        "\n",
        "# Visualize the errors\n",
        "visualize_errors(mu0, mu1, sigma, n, alpha)"
      ],
      "metadata": {
        "colab": {
          "base_uri": "https://localhost:8080/",
          "height": 507
        },
        "id": "JiYK41FzUTYl",
        "outputId": "721d0488-aebe-4cd3-d8df-cd9555f3486b"
      },
      "execution_count": null,
      "outputs": [
        {
          "output_type": "display_data",
          "data": {
            "text/plain": [
              "<Figure size 640x480 with 1 Axes>"
            ],
            "image/png": "[encoded data removed]"
          },
          "metadata": {}
        },
        {
          "output_type": "stream",
          "name": "stdout",
          "text": [
            "Type 1 Error (alpha): 0.0500\n",
            "Type 2 Error (beta): 0.0004\n"
          ]
        }
      ]
    },
    {
      "cell_type": "markdown",
      "source": [
        "6. Write a Python program to perform an independent T-test and interpret the results."
      ],
      "metadata": {
        "id": "yDHvSGxSVJHv"
      }
    },
    {
      "cell_type": "code",
      "source": [
        "import numpy as np\n",
        "from scipy.stats import ttest_ind\n",
        "\n",
        "def independent_ttest(group1, group2, alpha=0.05):\n",
        "    \"\"\"\n",
        "    Performs an independent two-sample t-test.\n",
        "\n",
        "    Args:\n",
        "        group1: A list or numpy array of data for the first group.\n",
        "        group2: A list or numpy array of data for the second group.\n",
        "        alpha: Significance level (default is 0.05).\n",
        "\n",
        "    Returns:\n",
        "        A dictionary containing the t-statistic, p-value, and a conclusion.\n",
        "    \"\"\"\n",
        "\n",
        "    # Perform the t-test\n",
        "    t_statistic, p_value = ttest_ind(group1, group2)\n",
        "\n",
        "    # Determine the conclusion based on the p-value and significance level\n",
        "    conclusion = \"Fail to reject the null hypothesis.\"\n",
        "    if p_value < alpha:\n",
        "        conclusion = \"Reject the null hypothesis.\"\n",
        "\n",
        "    # Return the results\n",
        "    return {\"t_statistic\": t_statistic, \"p_value\": p_value, \"conclusion\": conclusion}\n",
        "\n",
        "\n",
        "\n",
        "    # Sample data for two groups\n",
        "group1 = [10, 12, 14, 16, 18]\n",
        "group2 = [11, 13, 15, 17, 19]\n",
        "\n",
        "# Significance level\n",
        "alpha = 0.05\n",
        "\n",
        "# Perform the independent t-test\n",
        "results = independent_ttest(group1, group2, alpha)\n",
        "\n",
        "# Print the results\n",
        "print(results)"
      ],
      "metadata": {
        "colab": {
          "base_uri": "https://localhost:8080/"
        },
        "id": "Zs4zs_oHVFi3",
        "outputId": "c8146bbf-67dc-481b-e4b3-4af55afadffc"
      },
      "execution_count": null,
      "outputs": [
        {
          "output_type": "stream",
          "name": "stdout",
          "text": [
            "{'t_statistic': np.float64(-0.5), 'p_value': np.float64(0.6305360755569764), 'conclusion': 'Fail to reject the null hypothesis.'}\n"
          ]
        }
      ]
    },
    {
      "cell_type": "markdown",
      "source": [
        "7. Perform a paired sample T-test using Python and visualize the comparison results."
      ],
      "metadata": {
        "id": "DQsqU0nGVnAT"
      }
    },
    {
      "cell_type": "code",
      "source": [
        "import numpy as np\n",
        "from scipy.stats import ttest_rel\n",
        "import matplotlib.pyplot as plt\n",
        "\n",
        "def paired_ttest(data1, data2, alpha=0.05):\n",
        "    \"\"\"\n",
        "    Performs a paired sample T-test and visualizes the comparison results.\n",
        "\n",
        "    Args:\n",
        "        data1: A list or numpy array of data for the first group.\n",
        "        data2: A list or numpy array of data for the second group.\n",
        "        alpha: Significance level (default is 0.05).\n",
        "    \"\"\"\n",
        "\n",
        "    # Perform the paired t-test\n",
        "    t_statistic, p_value = ttest_rel(data1, data2)\n",
        "\n",
        "    # Print the results\n",
        "    print(f\"T-statistic: {t_statistic}\")\n",
        "    print(f\"P-value: {p_value}\")\n",
        "\n",
        "    # Determine the conclusion based on the p-value and significance level\n",
        "    conclusion = \"Fail to reject the null hypothesis.\"\n",
        "    if p_value < alpha:\n",
        "        conclusion = \"Reject the null hypothesis.\"\n",
        "    print(f\"Conclusion: {conclusion}\")\n",
        "\n",
        "    # Visualize the comparison results\n",
        "    plt.figure(figsize=(8, 6))\n",
        "    plt.boxplot([data1, data2], labels=['Group 1', 'Group 2'])\n",
        "    plt.title('Paired Sample T-test Comparison')\n",
        "    plt.ylabel('Values')\n",
        "    plt.show()\n",
        "\n",
        "\n",
        "\n",
        "    # Sample data for two groups\n",
        "data1 = [10, 12, 14, 16, 18]\n",
        "data2 = [11, 13, 15, 17, 19]\n",
        "\n",
        "# Significance level\n",
        "alpha = 0.05\n",
        "\n",
        "# Perform the paired t-test and visualize the results\n",
        "paired_ttest(data1, data2, alpha)"
      ],
      "metadata": {
        "colab": {
          "base_uri": "https://localhost:8080/",
          "height": 686
        },
        "id": "ph_ZBQ91VdQg",
        "outputId": "76cbe52b-5c2b-46eb-d3bb-f16c87e757dd"
      },
      "execution_count": null,
      "outputs": [
        {
          "output_type": "stream",
          "name": "stderr",
          "text": [
            "/usr/local/lib/python3.11/dist-packages/scipy/stats/_axis_nan_policy.py:573: RuntimeWarning: Precision loss occurred in moment calculation due to catastrophic cancellation. This occurs when the data are nearly identical. Results may be unreliable.\n",
            "  res = hypotest_fun_out(*samples, **kwds)\n",
            "<ipython-input-9-91e795b92e41>:30: MatplotlibDeprecationWarning: The 'labels' parameter of boxplot() has been renamed 'tick_labels' since Matplotlib 3.9; support for the old name will be dropped in 3.11.\n",
            "  plt.boxplot([data1, data2], labels=['Group 1', 'Group 2'])\n"
          ]
        },
        {
          "output_type": "stream",
          "name": "stdout",
          "text": [
            "T-statistic: -inf\n",
            "P-value: 0.0\n",
            "Conclusion: Reject the null hypothesis.\n"
          ]
        },
        {
          "output_type": "display_data",
          "data": {
            "text/plain": [
              "<Figure size 800x600 with 1 Axes>"
            ],
            "image/png": "[encoded data removed]"
          },
          "metadata": {}
        }
      ]
    },
    {
      "cell_type": "markdown",
      "source": [
        "8. Simulate data and perform both Z-test and T-test, then compare the results using Python."
      ],
      "metadata": {
        "id": "2hwVfxAQV1k5"
      }
    },
    {
      "cell_type": "code",
      "source": [
        "import numpy as np\n",
        "from scipy.stats import norm, ttest_1samp, zscore\n",
        "\n",
        "def compare_z_t_tests(population_mean, population_std, sample_size, alpha=0.05):\n",
        "    \"\"\"\n",
        "    Simulates data, performs Z-test and T-test, and compares the results.\n",
        "\n",
        "    Args:\n",
        "        population_mean: The population mean.\n",
        "        population_std: The population standard deviation.\n",
        "        sample_size: The sample size.\n",
        "        alpha: Significance level (default is 0.05).\n",
        "    \"\"\"\n",
        "\n",
        "    # Simulate data from a normal distribution\n",
        "    np.random.seed(42)  # for reproducibility\n",
        "    sample = np.random.normal(loc=population_mean, scale=population_std, size=sample_size)\n",
        "\n",
        "    # Perform Z-test\n",
        "    z_statistic = zscore(sample).mean()  # Calculate Z-statistic using zscore\n",
        "    p_value_z = 2 * (1 - norm.cdf(abs(z_statistic)))  # Two-tailed test\n",
        "\n",
        "    # Perform T-test\n",
        "    t_statistic, p_value_t = ttest_1samp(sample, population_mean)\n",
        "\n",
        "    # Print the results\n",
        "    print(\"Z-test:\")\n",
        "    print(f\"  Z-statistic: {z_statistic:.4f}\")\n",
        "    print(f\"  P-value: {p_value_z:.4f}\")\n",
        "    print(f\"  Conclusion: {'Reject' if p_value_z < alpha else 'Fail to reject'} the null hypothesis\")\n",
        "\n",
        "    print(\"\\nT-test:\")\n",
        "    print(f\"  T-statistic: {t_statistic:.4f}\")\n",
        "    print(f\"  P-value: {p_value_t:.4f}\")\n",
        "    print(f\"  Conclusion: {'Reject' if p_value_t < alpha else 'Fail to reject'} the null hypothesis\")\n",
        "\n",
        "    # Compare the results\n",
        "    print(\"\\nComparison:\")\n",
        "    print(f\"  Difference in P-values: {abs(p_value_z - p_value_t):.4f}\")\n",
        "    print(\"  Conclusions are\", \"the same\" if (p_value_z < alpha) == (p_value_t < alpha) else \"different\")\n",
        "\n",
        "\n",
        "\n",
        "    # Set parameters\n",
        "population_mean = 50\n",
        "population_std = 10\n",
        "sample_size = 30\n",
        "alpha = 0.05\n",
        "\n",
        "# Compare Z-test and T-test\n",
        "compare_z_t_tests(population_mean, population_std, sample_size, alpha)"
      ],
      "metadata": {
        "colab": {
          "base_uri": "https://localhost:8080/"
        },
        "id": "_RwqdgPbWKa2",
        "outputId": "7a9fea5d-4d34-4357-a380-7032644e732c"
      },
      "execution_count": null,
      "outputs": [
        {
          "output_type": "stream",
          "name": "stdout",
          "text": [
            "Z-test:\n",
            "  Z-statistic: 0.0000\n",
            "  P-value: 1.0000\n",
            "  Conclusion: Fail to reject the null hypothesis\n",
            "\n",
            "T-test:\n",
            "  T-statistic: -1.1450\n",
            "  P-value: 0.2616\n",
            "  Conclusion: Fail to reject the null hypothesis\n",
            "\n",
            "Comparison:\n",
            "  Difference in P-values: 0.7384\n",
            "  Conclusions are the same\n"
          ]
        }
      ]
    },
    {
      "cell_type": "markdown",
      "source": [
        "9. Write a Python function to calculate the confidence interval for a sample mean and explain its significance."
      ],
      "metadata": {
        "id": "eLjGguPwWaPg"
      }
    },
    {
      "cell_type": "code",
      "source": [
        "import numpy as np\n",
        "from scipy.stats import t, norm\n",
        "\n",
        "def confidence_interval(data, confidence=0.95):\n",
        "    \"\"\"\n",
        "    Calculates the confidence interval for a sample mean.\n",
        "\n",
        "    Args:\n",
        "        data: A list or numpy array of sample data.\n",
        "        confidence: The desired confidence level (default is 0.95).\n",
        "\n",
        "    Returns:\n",
        "        A tuple containing the lower and upper bounds of the confidence interval.\n",
        "    \"\"\"\n",
        "    # Sample size\n",
        "    n = len(data)\n",
        "\n",
        "    # Sample mean\n",
        "    mean = np.mean(data)\n",
        "\n",
        "    # Sample standard deviation\n",
        "    std = np.std(data, ddof=1)  # ddof=1 for unbiased estimate\n",
        "\n",
        "    # Calculate the critical value\n",
        "    #  Use t-distribution if sample size is small (n < 30)\n",
        "    #  Use normal distribution if sample size is large (n >= 30)\n",
        "    if n < 30:\n",
        "        critical_value = t.ppf((1 + confidence) / 2, df=n - 1)\n",
        "    else:\n",
        "        critical_value = norm.ppf((1 + confidence) / 2)\n",
        "\n",
        "    # Margin of error\n",
        "    margin_of_error = critical_value * (std / np.sqrt(n))\n",
        "\n",
        "    # Confidence interval\n",
        "    lower_bound = mean - margin_of_error\n",
        "    upper_bound = mean + margin_of_error\n",
        "\n",
        "    return lower_bound, upper_bound\n",
        "\n",
        "\n",
        "\n",
        "    # Sample data\n",
        "data = [25, 30, 35, 32, 28, 33, 29, 31, 34, 30]\n",
        "\n",
        "# Calculate the 95% confidence interval\n",
        "lower_bound, upper_bound = confidence_interval(data, confidence=0.95)\n",
        "\n",
        "# Print the results\n",
        "print(f\"95% Confidence Interval: ({lower_bound:.2f}, {upper_bound:.2f})\")"
      ],
      "metadata": {
        "colab": {
          "base_uri": "https://localhost:8080/"
        },
        "id": "fht6iyMXWPim",
        "outputId": "4ff9bd3f-2126-4757-c4e9-3263c9e084ff"
      },
      "execution_count": null,
      "outputs": [
        {
          "output_type": "stream",
          "name": "stdout",
          "text": [
            "95% Confidence Interval: (28.57, 32.83)\n"
          ]
        }
      ]
    },
    {
      "cell_type": "markdown",
      "source": [
        "Significance of Confidence Interval:\n",
        "\n",
        ">**Estimation of Population Mean**: The confidence\n",
        "interval provides a range of values within which we are confident (with a certain level of confidence, e.g., 95%) that the true population mean lies.\n",
        "\n",
        ">**Uncertainty Quantification**: It quantifies the uncertainty associated with the sample estimate of the population mean. A wider confidence interval indicates greater uncertainty, while a narrower interval indicates greater precision.\n",
        "\n",
        ">**Hypothesis Testing**: It can be used to perform hypothesis tests. If a hypothesized value for the population mean falls outside the confidence interval, we would reject the null hypothesis that the population mean is equal to that value.\n",
        "\n",
        ">**Decision Making**: It helps in making informed decisions based on the data. For example, if we are interested in the average height of a certain population, the confidence interval gives us a range of plausible values for the true average height.\n",
        "\n",
        "In summary, the confidence interval is a valuable tool for statistical inference, providing a range of plausible values for a population parameter and quantifying the uncertainty associated with the sample estimate. I hope this explanation and the provided Python function are helpful for your understanding and application of confidence intervals. Please let me know if you have any further questions."
      ],
      "metadata": {
        "id": "7p1TEl09W9RO"
      }
    },
    {
      "cell_type": "markdown",
      "source": [
        "10. Write a Python program to calculate the margin of error for a given confidence level using sample data."
      ],
      "metadata": {
        "id": "xSUhhjzwXX2i"
      }
    },
    {
      "cell_type": "code",
      "source": [
        "import numpy as np\n",
        "from scipy.stats import t, norm\n",
        "\n",
        "def margin_of_error(data, confidence=0.95):\n",
        "    \"\"\"\n",
        "    Calculates the margin of error for a given confidence level using sample data.\n",
        "\n",
        "    Args:\n",
        "        data: A list or numpy array of sample data.\n",
        "        confidence: The desired confidence level (default is 0.95).\n",
        "\n",
        "    Returns:\n",
        "        The margin of error.\n",
        "    \"\"\"\n",
        "    # Sample size\n",
        "    n = len(data)\n",
        "\n",
        "    # Sample standard deviation\n",
        "    std = np.std(data, ddof=1)  # ddof=1 for unbiased estimate\n",
        "\n",
        "    # Calculate the critical value\n",
        "    #  Use t-distribution if sample size is small (n < 30)\n",
        "    #  Use normal distribution if sample size is large (n >= 30)\n",
        "    if n < 30:\n",
        "        critical_value = t.ppf((1 + confidence) / 2, df=n - 1)\n",
        "    else:\n",
        "        critical_value = norm.ppf((1 + confidence) / 2)\n",
        "\n",
        "    # Margin of error\n",
        "    margin_of_error = critical_value * (std / np.sqrt(n))\n",
        "\n",
        "    return margin_of_error\n",
        "\n",
        "# Sample data\n",
        "data = [25, 30, 35, 32, 28, 33, 29, 31, 34, 30]\n",
        "\n",
        "# Calculate the margin of error for a 95% confidence level\n",
        "moe = margin_of_error(data, confidence=0.95)\n",
        "\n",
        "# Print the result\n",
        "print(f\"Margin of Error (95% Confidence): {moe:.2f}\")"
      ],
      "metadata": {
        "colab": {
          "base_uri": "https://localhost:8080/"
        },
        "id": "A9M3sJVbW7eb",
        "outputId": "894af38a-c994-4582-f380-a3938e733643"
      },
      "execution_count": null,
      "outputs": [
        {
          "output_type": "stream",
          "name": "stdout",
          "text": [
            "Margin of Error (95% Confidence): 2.13\n"
          ]
        }
      ]
    },
    {
      "cell_type": "markdown",
      "source": [
        "11. Implement a Bayesian inference method using Bayes' Theorem in Python and explain the process."
      ],
      "metadata": {
        "id": "m-156yJ7YS91"
      }
    },
    {
      "cell_type": "code",
      "source": [
        "import numpy as np\n",
        "\n",
        "def bayesian_inference(prior, likelihood, data):\n",
        "    \"\"\"\n",
        "    Performs Bayesian inference using Bayes' Theorem.\n",
        "\n",
        "    Args:\n",
        "        prior: Prior probability distribution (a NumPy array).\n",
        "        likelihood: Likelihood function (a function that takes data and a hypothesis\n",
        "                    as input and returns the probability of the data given the hypothesis).\n",
        "        data: Observed data.\n",
        "\n",
        "    Returns:\n",
        "        Posterior probability distribution (a NumPy array).\n",
        "    \"\"\"\n",
        "\n",
        "    # Calculate the numerator of Bayes' Theorem (prior * likelihood)\n",
        "    numerator = prior * likelihood(data)\n",
        "\n",
        "    # Calculate the denominator (marginal likelihood)\n",
        "    denominator = np.sum(numerator)\n",
        "\n",
        "    # Calculate the posterior probability distribution\n",
        "    posterior = numerator / denominator\n",
        "\n",
        "    return posterior\n",
        "\n",
        "# Example usage\n",
        "# Define the prior probability distribution (e.g., for a coin flip, prior for heads)\n",
        "prior = np.array([0.5, 0.5])  # Equal prior for heads and tails\n",
        "\n",
        "# Define the likelihood function (e.g., probability of observing heads given a coin)\n",
        "def likelihood(data):\n",
        "    # Assuming data is a list of 0s (tails) and 1s (heads)\n",
        "    num_heads = np.sum(data)\n",
        "    num_tails = len(data) - num_heads\n",
        "\n",
        "    # Probability of observing the data given heads (hypothesis 0)\n",
        "    likelihood_heads = 0.7**num_heads * 0.3**num_tails\n",
        "\n",
        "    # Probability of observing the data given tails (hypothesis 1)\n",
        "    likelihood_tails = 0.3**num_heads * 0.7**num_tails\n",
        "\n",
        "    return np.array([likelihood_heads, likelihood_tails])\n",
        "\n",
        "# Observed data (e.g., a sequence of coin flips)\n",
        "data = [1, 1, 0, 1, 0]  # 3 heads, 2 tails\n",
        "\n",
        "# Perform Bayesian inference\n",
        "posterior = bayesian_inference(prior, likelihood, data)\n",
        "\n",
        "# Print the posterior probability distribution\n",
        "print(\"Posterior probabilities:\", posterior)"
      ],
      "metadata": {
        "colab": {
          "base_uri": "https://localhost:8080/"
        },
        "id": "3_5F5E03YM6r",
        "outputId": "d9275681-2b51-4b82-a26e-17de626bdf08"
      },
      "execution_count": null,
      "outputs": [
        {
          "output_type": "stream",
          "name": "stdout",
          "text": [
            "Posterior probabilities: [0.7 0.3]\n"
          ]
        }
      ]
    },
    {
      "cell_type": "markdown",
      "source": [
        "**Explanation of the Process:**\n",
        "\n",
        "1. **Define the prior:** The prior probability distribution represents our initial beliefs about the probabilities of different hypotheses (e.g., the probability of a coin being fair or biased).\n",
        "\n",
        "2. **Define the likelihood:** The likelihood function calculates the probability of observing the data given a specific hypothesis. It reflects how likely the data is under each hypothesis.\n",
        "\n",
        "3. **Observe data:** Collect the data that we want to use to update our beliefs.\n",
        "\n",
        "4. **Apply Bayes' Theorem:**\n",
        "\n",
        ">>**Numerator:** Calculate the product of the prior and the likelihood for each hypothesis. This represents the probability of both the hypothesis being true and the data being observed.\n",
        "\n",
        ">>**Denominator:** Calculate the sum of the numerators for all hypotheses. This is called the marginal likelihood and represents the overall probability of observing the data.\n",
        "\n",
        ">>**Posterior:** Divide the numerator by the denominator for each hypothesis. This gives the updated probability of each hypothesis given the observed data.\n",
        "\n",
        "5. **Interpret the posterior:** The posterior probability distribution represents our updated beliefs about the probabilities of the hypotheses after considering the data. It tells us which hypothesis is more likely given the evidence."
      ],
      "metadata": {
        "id": "pKG3HwkvY3IH"
      }
    },
    {
      "cell_type": "markdown",
      "source": [
        "12. Perform a Chi-square test for independence between two categorical variables in Python."
      ],
      "metadata": {
        "id": "N11EgP4VaDON"
      }
    },
    {
      "cell_type": "code",
      "source": [
        "import numpy as np\n",
        "from scipy.stats import chi2_contingency\n",
        "\n",
        "def chi_square_test(data):\n",
        "    \"\"\"\n",
        "    Performs a Chi-square test for independence between two categorical variables.\n",
        "\n",
        "    Args:\n",
        "        data: A 2D NumPy array representing the contingency table of the two variables.\n",
        "\n",
        "    Returns:\n",
        "        A dictionary containing the Chi-square statistic, p-value, degrees of freedom,\n",
        "        and expected frequencies.\n",
        "    \"\"\"\n",
        "\n",
        "    # Perform the Chi-square test\n",
        "    chi2_statistic, p_value, degrees_of_freedom, expected_frequencies = chi2_contingency(data)\n",
        "\n",
        "    # Print the results\n",
        "    print(\"Chi-square statistic:\", chi2_statistic)\n",
        "    print(\"P-value:\", p_value)\n",
        "    print(\"Degrees of freedom:\", degrees_of_freedom)\n",
        "    print(\"Expected frequencies:\", expected_frequencies)\n",
        "\n",
        "    # Return the results\n",
        "    return {\n",
        "        \"chi2_statistic\": chi2_statistic,\n",
        "        \"p_value\": p_value,\n",
        "        \"degrees_of_freedom\": degrees_of_freedom,\n",
        "        \"expected_frequencies\": expected_frequencies,\n",
        "    }\n",
        "\n",
        "# Example usage\n",
        "# Contingency table (e.g., relationship between gender and smoking)\n",
        "data = np.array([[100, 50], [75, 25]])  # [ [Male Smokers, Male Non-Smokers], [Female Smokers, Female Non-Smokers] ]\n",
        "\n",
        "# Perform the Chi-square test\n",
        "results = chi_square_test(data)\n",
        "\n",
        "# Interpretation\n",
        "alpha = 0.05  # Significance level\n",
        "if results[\"p_value\"] < alpha:\n",
        "    print(\"Reject the null hypothesis: There is a significant association between the variables.\")\n",
        "else:\n",
        "    print(\"Fail to reject the null hypothesis: There is no significant association between the variables.\")"
      ],
      "metadata": {
        "colab": {
          "base_uri": "https://localhost:8080/"
        },
        "id": "TETtggFWYyD7",
        "outputId": "4a76d2ac-6303-4193-fc31-bf2c8714321b"
      },
      "execution_count": null,
      "outputs": [
        {
          "output_type": "stream",
          "name": "stdout",
          "text": [
            "Chi-square statistic: 1.6071428571428572\n",
            "P-value: 0.2048938938163749\n",
            "Degrees of freedom: 1\n",
            "Expected frequencies: [[105.  45.]\n",
            " [ 70.  30.]]\n",
            "Fail to reject the null hypothesis: There is no significant association between the variables.\n"
          ]
        }
      ]
    },
    {
      "cell_type": "markdown",
      "source": [
        "13. Write a Python program to calculate the expected frequencies for a Chi-square test based on observed\n",
        "data."
      ],
      "metadata": {
        "id": "VGMC6QDLajT6"
      }
    },
    {
      "cell_type": "code",
      "source": [
        "import numpy as np\n",
        "\n",
        "def calculate_expected_frequencies(observed_data):\n",
        "    \"\"\"\n",
        "    Calculates the expected frequencies for a Chi-square test based on observed data.\n",
        "\n",
        "    Args:\n",
        "        observed_data: A 2D NumPy array representing the observed contingency table.\n",
        "\n",
        "    Returns:\n",
        "        A 2D NumPy array representing the expected frequencies.\n",
        "    \"\"\"\n",
        "\n",
        "    # Get the row and column totals\n",
        "    row_totals = observed_data.sum(axis=1)\n",
        "    col_totals = observed_data.sum(axis=0)\n",
        "    grand_total = observed_data.sum()\n",
        "\n",
        "    # Calculate the expected frequencies\n",
        "    expected_frequencies = np.outer(row_totals, col_totals) / grand_total\n",
        "\n",
        "    return expected_frequencies\n",
        "\n",
        "# Example usage\n",
        "# Observed contingency table\n",
        "observed_data = np.array([[10, 20], [30, 40]])\n",
        "\n",
        "# Calculate the expected frequencies\n",
        "expected_frequencies = calculate_expected_frequencies(observed_data)\n",
        "\n",
        "# Print the expected frequencies\n",
        "print(\"Expected Frequencies:\")\n",
        "print(expected_frequencies)"
      ],
      "metadata": {
        "colab": {
          "base_uri": "https://localhost:8080/"
        },
        "id": "ITYDqyPZadE4",
        "outputId": "d9b34d82-271d-4603-ec30-50a272048ba1"
      },
      "execution_count": null,
      "outputs": [
        {
          "output_type": "stream",
          "name": "stdout",
          "text": [
            "Expected Frequencies:\n",
            "[[12. 18.]\n",
            " [28. 42.]]\n"
          ]
        }
      ]
    },
    {
      "cell_type": "markdown",
      "source": [
        "14. Perform a goodness-of-fit test using Python to compare the observed data to an expected distribution."
      ],
      "metadata": {
        "id": "2b1M9FeMa2hA"
      }
    },
    {
      "cell_type": "code",
      "source": [
        "import numpy as np\n",
        "from scipy.stats import chisquare\n",
        "\n",
        "def goodness_of_fit_test(observed_data, expected_distribution):\n",
        "    \"\"\"\n",
        "    Performs a goodness-of-fit test using the Chi-square test.\n",
        "\n",
        "    Args:\n",
        "        observed_data: A list or numpy array of observed frequencies.\n",
        "        expected_distribution: A list or numpy array of expected frequencies\n",
        "                                (or probabilities, which will be scaled to frequencies).\n",
        "\n",
        "    Returns:\n",
        "        A dictionary containing the Chi-square statistic, p-value, and a conclusion.\n",
        "    \"\"\"\n",
        "\n",
        "    # If expected_distribution contains probabilities, scale them to frequencies\n",
        "    if np.sum(expected_distribution) <= 1:\n",
        "        expected_distribution = np.array(expected_distribution) * np.sum(observed_data)\n",
        "\n",
        "    # Perform the Chi-square test\n",
        "    chi2_statistic, p_value = chisquare(observed_data, f_exp=expected_distribution)\n",
        "\n",
        "    # Determine the conclusion based on the p-value and significance level\n",
        "    alpha = 0.05  # Significance level\n",
        "    conclusion = \"Fail to reject the null hypothesis (data fits the expected distribution).\"\n",
        "    if p_value < alpha:\n",
        "        conclusion = \"Reject the null hypothesis (data does not fit the expected distribution).\"\n",
        "\n",
        "    # Return the results\n",
        "    return {\"chi2_statistic\": chi2_statistic, \"p_value\": p_value, \"conclusion\": conclusion}\n",
        "\n",
        "# Example usage\n",
        "# Observed data (e.g., frequencies of dice rolls)\n",
        "observed_data = [10, 12, 8, 15, 11, 9]\n",
        "\n",
        "# Expected distribution (e.g., uniform distribution for a fair die)\n",
        "expected_distribution = [1/6, 1/6, 1/6, 1/6, 1/6, 1/6]  # Probabilities\n",
        "\n",
        "# Perform the goodness-of-fit test\n",
        "results = goodness_of_fit_test(observed_data, expected_distribution)\n",
        "\n",
        "# Print the results\n",
        "print(results)"
      ],
      "metadata": {
        "colab": {
          "base_uri": "https://localhost:8080/"
        },
        "id": "NOgsOQ-Ta0wu",
        "outputId": "b37187f5-ff31-4e76-b714-ff9aa3b98bd8"
      },
      "execution_count": null,
      "outputs": [
        {
          "output_type": "stream",
          "name": "stdout",
          "text": [
            "{'chi2_statistic': np.float64(2.8461538461538467), 'p_value': np.float64(0.7236898887429646), 'conclusion': 'Fail to reject the null hypothesis (data fits the expected distribution).'}\n"
          ]
        }
      ]
    },
    {
      "cell_type": "markdown",
      "source": [
        "15. Create a Python script to simulate and visualize the Chi-square distribution and discuss its characteristics."
      ],
      "metadata": {
        "id": "2x1KBxHgbI-1"
      }
    },
    {
      "cell_type": "code",
      "source": [
        "import numpy as np\n",
        "import matplotlib.pyplot as plt\n",
        "from scipy.stats import chi2\n",
        "\n",
        "# Parameters for the Chi-square distribution\n",
        "degrees_of_freedom = 5  # You can change this value\n",
        "\n",
        "# Generate random numbers from the Chi-square distribution\n",
        "random_numbers = chi2.rvs(df=degrees_of_freedom, size=10000)\n",
        "\n",
        "# Create a histogram of the simulated data\n",
        "plt.hist(random_numbers, bins=50, density=True, alpha=0.7, color='blue', label=f'df = {degrees_of_freedom}')\n",
        "\n",
        "# Plot the theoretical Chi-square distribution\n",
        "x = np.linspace(0, 20, 100)  # Adjust range as needed\n",
        "plt.plot(x, chi2.pdf(x, df=degrees_of_freedom), color='red', label='Theoretical Distribution')\n",
        "\n",
        "# Add labels and title\n",
        "plt.xlabel('X')\n",
        "plt.ylabel('Probability Density')\n",
        "plt.title('Chi-square Distribution')\n",
        "plt.legend()\n",
        "\n",
        "# Show the plot\n",
        "plt.show()"
      ],
      "metadata": {
        "colab": {
          "base_uri": "https://localhost:8080/",
          "height": 472
        },
        "id": "qfM9acrIbF3R",
        "outputId": "75948116-7f66-4b9a-a69b-f19e68e27dd6"
      },
      "execution_count": null,
      "outputs": [
        {
          "output_type": "display_data",
          "data": {
            "text/plain": [
              "<Figure size 640x480 with 1 Axes>"
            ],
            "image/png": "[encoded data removed]"
          },
          "metadata": {}
        }
      ]
    },
    {
      "cell_type": "markdown",
      "source": [
        "**Characteristics of the Chi-square Distribution:**\n",
        "\n",
        "**Shape:** The Chi-square distribution is a right-skewed distribution. Its shape depends on the degrees of freedom. With lower degrees of freedom, the distribution is more skewed. As the degrees of freedom increase, the distribution becomes more symmetrical and approaches a normal distribution.\n",
        "\n",
        "**Range:** The Chi-square distribution is defined for non-negative values (x ≥ 0).\n",
        "Degrees of freedom: The degrees of freedom (df) is a parameter that determines the shape of the distribution. It is often related to the sample size or the number of categories in the data.\n",
        "\n",
        "**Applications:** The Chi-square distribution is widely used in statistical inference, including:\n",
        "Goodness-of-fit tests: To determine if observed data fits an expected distribution.\n",
        "\n",
        ">**Goodness-of-fit tests:** To determine if observed data fits an expected distribution.\n",
        "\n",
        ">**Tests of independence:** To assess if there is an association between two categorical variables.\n",
        "\n",
        ">**Confidence intervals for variance:** To estimate the population variance.\n",
        "\n"
      ],
      "metadata": {
        "id": "Sa0mVadubqUp"
      }
    },
    {
      "cell_type": "markdown",
      "source": [
        "16. Implement an F-test using Python to compare the variances of two random samples."
      ],
      "metadata": {
        "id": "Zlsa3xZncslT"
      }
    },
    {
      "cell_type": "code",
      "source": [
        "import numpy as np\n",
        "from scipy.stats import f\n",
        "\n",
        "def f_test(sample1, sample2, alpha=0.05):\n",
        "    \"\"\"\n",
        "    Performs an F-test to compare the variances of two samples.\n",
        "\n",
        "    Args:\n",
        "        sample1: A list or numpy array of data for the first sample.\n",
        "        sample2: A list or numpy array of data for the second sample.\n",
        "        alpha: Significance level (default is 0.05).\n",
        "\n",
        "    Returns:\n",
        "        A dictionary containing the F-statistic, p-value, and a conclusion.\n",
        "    \"\"\"\n",
        "\n",
        "    # Calculate the variances of the two samples\n",
        "    variance1 = np.var(sample1, ddof=1)  # ddof=1 for unbiased estimate\n",
        "    variance2 = np.var(sample2, ddof=1)\n",
        "\n",
        "    # Calculate the F-statistic\n",
        "    f_statistic = variance1 / variance2  # Assuming variance1 is larger\n",
        "\n",
        "    # Calculate the degrees of freedom\n",
        "    df1 = len(sample1) - 1\n",
        "    df2 = len(sample2) - 1\n",
        "\n",
        "    # Calculate the p-value (two-tailed test)\n",
        "    p_value = 2 * min(f.cdf(f_statistic, df1, df2), 1 - f.cdf(f_statistic, df1, df2))\n",
        "\n",
        "    # Determine the conclusion based on the p-value and significance level\n",
        "    conclusion = \"Fail to reject the null hypothesis (variances are equal).\"\n",
        "    if p_value < alpha:\n",
        "        conclusion = \"Reject the null hypothesis (variances are not equal).\"\n",
        "\n",
        "    # Return the results\n",
        "    return {\"f_statistic\": f_statistic, \"p_value\": p_value, \"conclusion\": conclusion}\n",
        "\n",
        "# Example usage\n",
        "# Generate two random samples\n",
        "np.random.seed(42)  # for reproducibility\n",
        "sample1 = np.random.normal(loc=10, scale=2, size=30)\n",
        "sample2 = np.random.normal(loc=12, scale=3, size=25)\n",
        "\n",
        "# Perform the F-test\n",
        "results = f_test(sample1, sample2, alpha=0.05)\n",
        "\n",
        "# Print the results\n",
        "print(results)"
      ],
      "metadata": {
        "id": "YL2eprMebntO",
        "colab": {
          "base_uri": "https://localhost:8080/"
        },
        "outputId": "860ad9eb-aecd-4adc-9130-24f1a52639bc"
      },
      "execution_count": null,
      "outputs": [
        {
          "output_type": "stream",
          "name": "stdout",
          "text": [
            "{'f_statistic': np.float64(0.3934384799386656), 'p_value': np.float64(0.017655209061597635), 'conclusion': 'Reject the null hypothesis (variances are not equal).'}\n"
          ]
        }
      ]
    },
    {
      "cell_type": "markdown",
      "source": [
        "17. Write a Python program to perform an ANOVA test to compare means between multiple groups and\n",
        "interpret the results."
      ],
      "metadata": {
        "id": "_eS0M2CmqalZ"
      }
    },
    {
      "cell_type": "code",
      "source": [
        "! pip install pandas"
      ],
      "metadata": {
        "colab": {
          "base_uri": "https://localhost:8080/"
        },
        "id": "_jODz7mpsOqv",
        "outputId": "03945db8-3077-4343-8b40-7773639c3d49"
      },
      "execution_count": null,
      "outputs": [
        {
          "output_type": "stream",
          "name": "stdout",
          "text": [
            "Requirement already satisfied: pandas in /usr/local/lib/python3.11/dist-packages (2.2.2)\n",
            "Requirement already satisfied: numpy>=1.23.2 in /usr/local/lib/python3.11/dist-packages (from pandas) (2.0.2)\n",
            "Requirement already satisfied: python-dateutil>=2.8.2 in /usr/local/lib/python3.11/dist-packages (from pandas) (2.8.2)\n",
            "Requirement already satisfied: pytz>=2020.1 in /usr/local/lib/python3.11/dist-packages (from pandas) (2025.2)\n",
            "Requirement already satisfied: tzdata>=2022.7 in /usr/local/lib/python3.11/dist-packages (from pandas) (2025.2)\n",
            "Requirement already satisfied: six>=1.5 in /usr/local/lib/python3.11/dist-packages (from python-dateutil>=2.8.2->pandas) (1.17.0)\n"
          ]
        }
      ]
    },
    {
      "cell_type": "code",
      "source": [
        "! pip install statsmodels"
      ],
      "metadata": {
        "colab": {
          "base_uri": "https://localhost:8080/"
        },
        "id": "x3y4s0DZsUmb",
        "outputId": "1813427e-3c35-43c9-c871-932e4ee76c82"
      },
      "execution_count": null,
      "outputs": [
        {
          "output_type": "stream",
          "name": "stdout",
          "text": [
            "Requirement already satisfied: statsmodels in /usr/local/lib/python3.11/dist-packages (0.14.4)\n",
            "Requirement already satisfied: numpy<3,>=1.22.3 in /usr/local/lib/python3.11/dist-packages (from statsmodels) (2.0.2)\n",
            "Requirement already satisfied: scipy!=1.9.2,>=1.8 in /usr/local/lib/python3.11/dist-packages (from statsmodels) (1.14.1)\n",
            "Requirement already satisfied: pandas!=2.1.0,>=1.4 in /usr/local/lib/python3.11/dist-packages (from statsmodels) (2.2.2)\n",
            "Requirement already satisfied: patsy>=0.5.6 in /usr/local/lib/python3.11/dist-packages (from statsmodels) (1.0.1)\n",
            "Requirement already satisfied: packaging>=21.3 in /usr/local/lib/python3.11/dist-packages (from statsmodels) (24.2)\n",
            "Requirement already satisfied: python-dateutil>=2.8.2 in /usr/local/lib/python3.11/dist-packages (from pandas!=2.1.0,>=1.4->statsmodels) (2.8.2)\n",
            "Requirement already satisfied: pytz>=2020.1 in /usr/local/lib/python3.11/dist-packages (from pandas!=2.1.0,>=1.4->statsmodels) (2025.2)\n",
            "Requirement already satisfied: tzdata>=2022.7 in /usr/local/lib/python3.11/dist-packages (from pandas!=2.1.0,>=1.4->statsmodels) (2025.2)\n",
            "Requirement already satisfied: six>=1.5 in /usr/local/lib/python3.11/dist-packages (from python-dateutil>=2.8.2->pandas!=2.1.0,>=1.4->statsmodels) (1.17.0)\n"
          ]
        }
      ]
    },
    {
      "cell_type": "code",
      "source": [
        "import statsmodels.formula.api as sm\n",
        "# Import statsmodels.stats.api for statistical tests\n",
        "from statsmodels.stats.anova import anova_lm\n",
        "\n",
        "def anova_test(data, formula):\n",
        "    \"\"\"\n",
        "    Performs an ANOVA test to compare means between multiple groups.\n",
        "\n",
        "    Args:\n",
        "        data: A pandas DataFrame containing the data.\n",
        "        formula: A string representing the formula for the ANOVA model.\n",
        "                 It should be in the format 'dependent_variable ~ independent_variable'.\n",
        "\n",
        "    Returns:\n",
        "        An ANOVA table.\n",
        "    \"\"\"\n",
        "\n",
        "    # Create the ANOVA model\n",
        "    model = sm.ols(formula, data=data)\n",
        "\n",
        "    # Fit the model\n",
        "    results = model.fit()\n",
        "\n",
        "    # Get the ANOVA table using anova_lm from statsmodels.stats.anova\n",
        "    anova_table = anova_lm(results, typ=2)\n",
        "\n",
        "    # Print the ANOVA table\n",
        "    print(anova_table)\n",
        "\n",
        "    # Return the ANOVA table\n",
        "    return anova_table\n",
        "\n",
        "\n",
        "import pandas as pd\n",
        "# Create a sample DataFrame\n",
        "\n",
        "data = pd.DataFrame({\n",
        "    'group': ['A', 'A', 'A', 'B', 'B', 'B', 'C', 'C', 'C'],\n",
        "    'value': [10, 12, 14, 11, 13, 15, 12, 14, 16]\n",
        "})\n",
        "\n",
        "# Perform the ANOVA test\n",
        "anova_table = anova_test(data, 'value ~ group')\n",
        "\n",
        "# Interpretation\n",
        "alpha = 0.05  # Significance level\n",
        "if anova_table['PR(>F)'][0] < alpha:\n",
        "    print(\"Reject the null hypothesis: There is a significant difference between the means of the groups.\")\n",
        "else:\n",
        "    print(\"Fail to reject the null hypothesis: There is no significant difference between the means of the groups.\")"
      ],
      "metadata": {
        "colab": {
          "base_uri": "https://localhost:8080/"
        },
        "id": "GGA_C-wRseQg",
        "outputId": "9fd0aace-f045-489a-ac32-7f099ddba083"
      },
      "execution_count": null,
      "outputs": [
        {
          "output_type": "stream",
          "name": "stdout",
          "text": [
            "          sum_sq   df     F  PR(>F)\n",
            "group        6.0  2.0  0.75   0.512\n",
            "Residual    24.0  6.0   NaN     NaN\n",
            "Fail to reject the null hypothesis: There is no significant difference between the means of the groups.\n"
          ]
        },
        {
          "output_type": "stream",
          "name": "stderr",
          "text": [
            "<ipython-input-27-977db297738e>:47: FutureWarning: Series.__getitem__ treating keys as positions is deprecated. In a future version, integer keys will always be treated as labels (consistent with DataFrame behavior). To access a value by position, use `ser.iloc[pos]`\n",
            "  if anova_table['PR(>F)'][0] < alpha:\n"
          ]
        }
      ]
    },
    {
      "cell_type": "markdown",
      "source": [
        "18. Perform a one-way ANOVA test using Python to compare the means of different groups and plot the results."
      ],
      "metadata": {
        "id": "LGgpAvxUuF_q"
      }
    },
    {
      "cell_type": "code",
      "source": [
        "import pandas as pd\n",
        "import statsmodels.formula.api as sm\n",
        "from statsmodels.stats.anova import anova_lm\n",
        "import matplotlib.pyplot as plt\n",
        "import seaborn as sns\n",
        "\n",
        "# Create sample data\n",
        "data = pd.DataFrame({\n",
        "    'group': ['A', 'A', 'A', 'B', 'B', 'B', 'C', 'C', 'C'],\n",
        "    'value': [10, 12, 14, 11, 13, 15, 12, 14, 16]\n",
        "})\n",
        "\n",
        "# Perform one-way ANOVA\n",
        "model = sm.ols('value ~ group', data=data).fit()\n",
        "anova_table = anova_lm(model, typ=2)\n",
        "print(anova_table)\n",
        "\n",
        "# Plot the results\n",
        "plt.figure(figsize=(8, 6))\n",
        "sns.boxplot(x='group', y='value', data=data)\n",
        "plt.title('One-Way ANOVA Results')\n",
        "plt.xlabel('Groups')\n",
        "plt.ylabel('Values')\n",
        "plt.show()"
      ],
      "metadata": {
        "colab": {
          "base_uri": "https://localhost:8080/",
          "height": 616
        },
        "id": "IhcIStMSuJ__",
        "outputId": "8b1acf02-8d8d-4edc-cf5d-e42a26c76d14"
      },
      "execution_count": null,
      "outputs": [
        {
          "output_type": "stream",
          "name": "stdout",
          "text": [
            "          sum_sq   df     F  PR(>F)\n",
            "group        6.0  2.0  0.75   0.512\n",
            "Residual    24.0  6.0   NaN     NaN\n"
          ]
        },
        {
          "output_type": "display_data",
          "data": {
            "text/plain": [
              "<Figure size 800x600 with 1 Axes>"
            ],
            "image/png": "[encoded data removed]"
          },
          "metadata": {}
        }
      ]
    },
    {
      "cell_type": "markdown",
      "source": [
        "19. Write a Python function to check the assumptions (normality, independence, and equal variance) for ANOVA."
      ],
      "metadata": {
        "id": "WVn6aaWzux6p"
      }
    },
    {
      "cell_type": "code",
      "source": [
        "import pandas as pd\n",
        "import statsmodels.formula.api as sm\n",
        "from statsmodels.stats.anova import anova_lm\n",
        "import scipy.stats as stats\n",
        "import statsmodels.stats.api as sms\n",
        "\n",
        "def check_anova_assumptions(data, dependent_var, independent_var):\n",
        "    \"\"\"\n",
        "    Checks the assumptions of normality, independence, and equal variance for ANOVA.\n",
        "\n",
        "    Args:\n",
        "        data: A pandas DataFrame containing the data.\n",
        "        dependent_var: The name of the dependent variable column.\n",
        "        independent_var: The name of the independent variable column.\n",
        "\n",
        "    Returns:\n",
        "        Prints the results of the assumption checks.\n",
        "    \"\"\"\n",
        "\n",
        "    # Normality Check (Shapiro-Wilk Test)\n",
        "    groups = data[independent_var].unique()\n",
        "    for group in groups:\n",
        "        group_data = data[data[independent_var] == group][dependent_var]\n",
        "        shapiro_statistic, shapiro_p_value = stats.shapiro(group_data)\n",
        "        print(f\"Shapiro-Wilk Test for Group {group}:\")\n",
        "        print(f\"  Statistic: {shapiro_statistic:.3f}\")\n",
        "        print(f\"  P-value: {shapiro_p_value:.3f}\")\n",
        "        print(f\"  Normality Assumption: {'Met' if shapiro_p_value > 0.05 else 'Violated'}\\n\")\n",
        "\n",
        "    # Independence Assumption (Assumed based on experimental design)\n",
        "    print(\"Independence Assumption: Assumed based on experimental design.\\n\")\n",
        "\n",
        "    # Equal Variance Check (Bartlett's Test)\n",
        "    group_data = [data[data[independent_var] == group][dependent_var] for group in groups]\n",
        "    bartlett_statistic, bartlett_p_value = stats.bartlett(*group_data)\n",
        "    print(\"Bartlett's Test for Equal Variances:\")\n",
        "    print(f\"  Statistic: {bartlett_statistic:.3f}\")\n",
        "    print(f\"  P-value: {bartlett_p_value:.3f}\")\n",
        "    print(f\"  Equal Variance Assumption: {'Met' if bartlett_p_value > 0.05 else 'Violated'}\\n\")\n",
        "\n",
        "    # Homogeneity of Variance (Levene's Test)\n",
        "    levene_statistic, levene_p_value = stats.levene(*group_data)\n",
        "    print(\"Levene's Test for Homogeneity of Variances:\")\n",
        "    print(f\"  Statistic: {levene_statistic:.3f}\")\n",
        "    print(f\"  P-value: {levene_p_value:.3f}\")\n",
        "    print(f\"  Homogeneity of Variance Assumption: {'Met' if levene_p_value > 0.05 else 'Violated'}\\n\")\n",
        "\n",
        "# Example usage:\n",
        "# Assuming your data is in a DataFrame called 'df'\n",
        "# with columns 'dependent_variable' and 'independent_variable'\n",
        "check_anova_assumptions(data, 'value', 'group')"
      ],
      "metadata": {
        "colab": {
          "base_uri": "https://localhost:8080/"
        },
        "id": "SxPJwoJmupBS",
        "outputId": "fbd27f4d-7540-42a3-fd95-75698d2d060a"
      },
      "execution_count": null,
      "outputs": [
        {
          "output_type": "stream",
          "name": "stdout",
          "text": [
            "Shapiro-Wilk Test for Group A:\n",
            "  Statistic: 1.000\n",
            "  P-value: 1.000\n",
            "  Normality Assumption: Met\n",
            "\n",
            "Shapiro-Wilk Test for Group B:\n",
            "  Statistic: 1.000\n",
            "  P-value: 1.000\n",
            "  Normality Assumption: Met\n",
            "\n",
            "Shapiro-Wilk Test for Group C:\n",
            "  Statistic: 1.000\n",
            "  P-value: 1.000\n",
            "  Normality Assumption: Met\n",
            "\n",
            "Independence Assumption: Assumed based on experimental design.\n",
            "\n",
            "Bartlett's Test for Equal Variances:\n",
            "  Statistic: 0.000\n",
            "  P-value: 1.000\n",
            "  Equal Variance Assumption: Met\n",
            "\n",
            "Levene's Test for Homogeneity of Variances:\n",
            "  Statistic: 0.000\n",
            "  P-value: 1.000\n",
            "  Homogeneity of Variance Assumption: Met\n",
            "\n"
          ]
        }
      ]
    },
    {
      "cell_type": "markdown",
      "source": [
        "20. Perform a two-way ANOVA test using Python to study the interaction between two factors and visualize the\n",
        "results."
      ],
      "metadata": {
        "id": "7cPBAiIovVq4"
      }
    },
    {
      "cell_type": "code",
      "source": [
        "import statsmodels.formula.api as sm\n",
        "from statsmodels.stats.anova import anova_lm\n",
        "import pandas as pd\n",
        "import seaborn as sns\n",
        "import matplotlib.pyplot as plt\n",
        "\n",
        "# Sample data (replace with your actual data)\n",
        "data = {'FactorA': ['A', 'A', 'A', 'A', 'B', 'B', 'B', 'B', 'C', 'C', 'C', 'C'],\n",
        "        'FactorB': ['X', 'X', 'Y', 'Y', 'X', 'X', 'Y', 'Y', 'X', 'X', 'Y', 'Y'],\n",
        "        'DependentVariable': [10, 12, 15, 14, 11, 13, 16, 15, 12, 14, 17, 16]}\n",
        "df = pd.DataFrame(data)\n",
        "\n",
        "# Fit the two-way ANOVA model\n",
        "model = sm.ols('DependentVariable ~ C(FactorA) + C(FactorB) + C(FactorA):C(FactorB)', data=df).fit()\n",
        "anova_table = anova_lm(model, typ=2)\n",
        "print(anova_table)\n",
        "\n",
        "# Visualize the interaction\n",
        "sns.pointplot(x='FactorA', y='DependentVariable', hue='FactorB', data=df, ci=None)\n",
        "plt.title('Interaction Plot')\n",
        "plt.xlabel('Factor A')\n",
        "plt.ylabel('Dependent Variable')\n",
        "plt.show()\n"
      ],
      "metadata": {
        "colab": {
          "base_uri": "https://localhost:8080/",
          "height": 646
        },
        "id": "sLgE1Gjpy0Wm",
        "outputId": "112a3f52-8a74-42b0-b69c-81b2dc5c4581"
      },
      "execution_count": null,
      "outputs": [
        {
          "output_type": "stream",
          "name": "stdout",
          "text": [
            "                             sum_sq   df             F    PR(>F)\n",
            "C(FactorA)             8.000000e+00  2.0  3.200000e+00  0.113289\n",
            "C(FactorB)             3.675000e+01  1.0  2.940000e+01  0.001629\n",
            "C(FactorA):C(FactorB)  1.598287e-30  2.0  6.393148e-31  1.000000\n",
            "Residual               7.500000e+00  6.0           NaN       NaN\n"
          ]
        },
        {
          "output_type": "stream",
          "name": "stderr",
          "text": [
            "<ipython-input-30-d0a002007058>:22: FutureWarning: \n",
            "\n",
            "The `ci` parameter is deprecated. Use `errorbar=None` for the same effect.\n",
            "\n",
            "  sns.pointplot(x='FactorA', y='DependentVariable', hue='FactorB', data=df, ci=None)\n"
          ]
        },
        {
          "output_type": "display_data",
          "data": {
            "text/plain": [
              "<Figure size 640x480 with 1 Axes>"
            ],
            "image/png": "[encoded data removed]"
          },
          "metadata": {}
        }
      ]
    },
    {
      "cell_type": "markdown",
      "source": [
        "21. Write a Python program to visualize the F-distribution and discuss its use in hypothesis testing."
      ],
      "metadata": {
        "id": "n_FC2D0p0jcw"
      }
    },
    {
      "cell_type": "code",
      "source": [
        "import matplotlib.pyplot as plt\n",
        "import numpy as np\n",
        "# Parameters for the F-distribution\n",
        "df1 = 5  # Degrees of freedom for the numerator\n",
        "df2 = 10  # Degrees of freedom for the denominator\n",
        "\n",
        "# Generate random numbers from the F-distribution\n",
        "random_numbers = f.rvs(df1, df2, size=10000)\n",
        "\n",
        "# Create a histogram of the simulated data\n",
        "plt.hist(random_numbers, bins=50, density=True, alpha=0.7, color='blue', label=f'df1 = {df1}, df2 = {df2}')\n",
        "\n",
        "# Plot the theoretical F-distribution\n",
        "x = np.linspace(0, 5, 100)  # Adjust range as needed\n",
        "plt.plot(x, f.pdf(x, df1, df2), color='red', label='Theoretical Distribution')\n",
        "\n",
        "# Add labels and title\n",
        "plt.xlabel('X')\n",
        "plt.ylabel('Probability Density')\n",
        "plt.title('F-Distribution')\n",
        "plt.legend()\n",
        "\n",
        "# Show the plot\n",
        "plt.show()"
      ],
      "metadata": {
        "colab": {
          "base_uri": "https://localhost:8080/",
          "height": 472
        },
        "id": "I27MCyiozOla",
        "outputId": "ee292a2a-ecb1-4303-cab2-976547464310"
      },
      "execution_count": null,
      "outputs": [
        {
          "output_type": "display_data",
          "data": {
            "text/plain": [
              "<Figure size 640x480 with 1 Axes>"
            ],
            "image/png": "[encoded data removed]"
          },
          "metadata": {}
        }
      ]
    },
    {
      "cell_type": "markdown",
      "source": [
        "22.  Perform a one-way ANOVA test in Python and visualize the results with boxplots to compare group means."
      ],
      "metadata": {
        "id": "Zfwp0Qdp1Ko1"
      }
    },
    {
      "cell_type": "code",
      "source": [
        "import statsmodels.formula.api as sm\n",
        "from statsmodels.stats.anova import anova_lm\n",
        "import pandas as pd\n",
        "import seaborn as sns\n",
        "import matplotlib.pyplot as plt\n",
        "\n",
        "# Sample data (replace with your actual data)\n",
        "data = {'group': ['A', 'A', 'A', 'B', 'B', 'B', 'C', 'C', 'C'],\n",
        "        'value': [10, 12, 14, 11, 13, 15, 12, 14, 16]}\n",
        "df = pd.DataFrame(data)\n",
        "\n",
        "# Perform one-way ANOVA\n",
        "model = sm.ols('value ~ group', data=df).fit()\n",
        "anova_table = anova_lm(model, typ=2)\n",
        "print(anova_table)\n",
        "\n",
        "# Plot the results\n",
        "plt.figure(figsize=(8, 6))\n",
        "sns.boxplot(x='group', y='value', data=df)\n",
        "plt.title('One-Way ANOVA Results')\n",
        "plt.xlabel('Groups')\n",
        "plt.ylabel('Values')\n",
        "plt.show()\n"
      ],
      "metadata": {
        "colab": {
          "base_uri": "https://localhost:8080/",
          "height": 616
        },
        "id": "3TnxPjbr1Ini",
        "outputId": "991c4c57-3d85-4bfc-fee6-202c4d95c671"
      },
      "execution_count": null,
      "outputs": [
        {
          "output_type": "stream",
          "name": "stdout",
          "text": [
            "          sum_sq   df     F  PR(>F)\n",
            "group        6.0  2.0  0.75   0.512\n",
            "Residual    24.0  6.0   NaN     NaN\n"
          ]
        },
        {
          "output_type": "display_data",
          "data": {
            "text/plain": [
              "<Figure size 800x600 with 1 Axes>"
            ],
            "image/png": "[encoded data removed]"
          },
          "metadata": {}
        }
      ]
    },
    {
      "cell_type": "markdown",
      "source": [
        "23. Simulate random data from a normal distribution, then perform hypothesis testing to evaluate the means."
      ],
      "metadata": {
        "id": "k1cqsEeN2jHE"
      }
    },
    {
      "cell_type": "code",
      "source": [
        "import matplotlib.pyplot as plt\n",
        "import numpy as np\n",
        "# Simulate two groups of data from normal distributions\n",
        "np.random.seed(0)  # for reproducibility\n",
        "group1 = np.random.normal(loc=5, scale=1, size=50)\n",
        "group2 = np.random.normal(loc=6, scale=1.2, size=50)\n",
        "\n",
        "# Perform an independent samples t-test\n",
        "t_statistic, p_value = ttest_ind(group1, group2)\n",
        "\n",
        "print(f\"T-statistic: {t_statistic:.3f}\")\n",
        "print(f\"P-value: {p_value:.3f}\")\n",
        "\n",
        "# Interpret the results\n",
        "alpha = 0.05  # Significance level\n",
        "if p_value < alpha:\n",
        "    print(\"Reject the null hypothesis: There is a significant difference between the means of the two groups.\")\n",
        "else:\n",
        "    print(\"Fail to reject the null hypothesis: There is no significant difference between the means of the two groups.\")\n",
        "\n",
        "# Visualize the data\n",
        "plt.hist(group1, alpha=0.5, label='Group 1')\n",
        "plt.hist(group2, alpha=0.5, label='Group 2')\n",
        "plt.xlabel('Value')\n",
        "plt.ylabel('Frequency')\n",
        "plt.title('Comparison of Two Groups')\n",
        "plt.legend()\n",
        "plt.show()\n"
      ],
      "metadata": {
        "colab": {
          "base_uri": "https://localhost:8080/",
          "height": 524
        },
        "id": "sSsCeUzi29Xq",
        "outputId": "c9c61d60-2186-4bb7-e5e0-c043c1b82a2b"
      },
      "execution_count": null,
      "outputs": [
        {
          "output_type": "stream",
          "name": "stdout",
          "text": [
            "T-statistic: -3.810\n",
            "P-value: 0.000\n",
            "Reject the null hypothesis: There is a significant difference between the means of the two groups.\n"
          ]
        },
        {
          "output_type": "display_data",
          "data": {
            "text/plain": [
              "<Figure size 640x480 with 1 Axes>"
            ],
            "image/png": "[encoded data removed]"
          },
          "metadata": {}
        }
      ]
    },
    {
      "cell_type": "markdown",
      "source": [
        "24. Perform a hypothesis test for population variance using a Chi-square distribution and interpret the results."
      ],
      "metadata": {
        "id": "1XIAa6u821Sg"
      }
    },
    {
      "cell_type": "code",
      "source": [
        "import numpy as np\n",
        "from scipy.stats import chi2\n",
        "\n",
        "def hypothesis_test_variance(sample, population_variance, alpha=0.05):\n",
        "    \"\"\"\n",
        "    Performs a hypothesis test for population variance using a Chi-square distribution.\n",
        "\n",
        "    Args:\n",
        "        sample: A NumPy array of sample data.\n",
        "        population_variance: The hypothesized population variance.\n",
        "        alpha: The significance level (default is 0.05).\n",
        "\n",
        "    Returns:\n",
        "        A dictionary containing the test statistic, p-value, and conclusion.\n",
        "    \"\"\"\n",
        "\n",
        "    n = len(sample)\n",
        "    sample_variance = np.var(sample, ddof=1)  # Sample variance (n-1 in denominator)\n",
        "    test_statistic = (n - 1) * sample_variance / population_variance\n",
        "\n",
        "    # Degrees of freedom\n",
        "    df = n - 1\n",
        "\n",
        "    # Calculate the p-value (right-tailed test)\n",
        "    p_value = 1 - chi2.cdf(test_statistic, df)\n",
        "\n",
        "    # Determine the conclusion\n",
        "    conclusion = \"Fail to reject the null hypothesis.\"\n",
        "    if p_value < alpha:\n",
        "        conclusion = \"Reject the null hypothesis.\"\n",
        "\n",
        "    return {\n",
        "        \"test_statistic\": test_statistic,\n",
        "        \"p_value\": p_value,\n",
        "        \"conclusion\": conclusion\n",
        "    }\n",
        "\n",
        "# Example usage\n",
        "np.random.seed(42)  # For reproducibility\n",
        "sample_data = np.random.normal(loc=10, scale=2, size=20)\n",
        "population_variance_hypothesis = 3  # Hypothesized population variance\n",
        "\n",
        "results = hypothesis_test_variance(sample_data, population_variance_hypothesis)\n",
        "results\n"
      ],
      "metadata": {
        "colab": {
          "base_uri": "https://localhost:8080/"
        },
        "id": "93tRgmS23o55",
        "outputId": "e480afa4-8e5f-42b8-fe2b-0047dc5bce3f"
      },
      "execution_count": null,
      "outputs": [
        {
          "output_type": "execute_result",
          "data": {
            "text/plain": [
              "{'test_statistic': np.float64(23.348582439257967),\n",
              " 'p_value': np.float64(0.22233689512802046),\n",
              " 'conclusion': 'Fail to reject the null hypothesis.'}"
            ]
          },
          "metadata": {},
          "execution_count": 36
        }
      ]
    },
    {
      "cell_type": "markdown",
      "source": [
        "25. Write a Python script to perform a Z-test for comparing proportions between two datasets or groups."
      ],
      "metadata": {
        "id": "rM4PbhiN3phB"
      }
    },
    {
      "cell_type": "code",
      "source": [
        "import numpy as np\n",
        "from statsmodels.stats.proportion import proportions_ztest\n",
        "\n",
        "def z_test_proportions(successes1, successes2, nobs1, nobs2):\n",
        "    \"\"\"\n",
        "    Performs a Z-test for comparing proportions between two groups.\n",
        "\n",
        "    Args:\n",
        "        successes1: Number of successes in group 1.\n",
        "        successes2: Number of successes in group 2.\n",
        "        nobs1: Total number of observations in group 1.\n",
        "        nobs2: Total number of observations in group 2.\n",
        "\n",
        "    Returns:\n",
        "        A tuple containing the Z-statistic and p-value.\n",
        "    \"\"\"\n",
        "\n",
        "    count = np.array([successes1, successes2])\n",
        "    nobs = np.array([nobs1, nobs2])\n",
        "    z_statistic, p_value = proportions_ztest(count, nobs)\n",
        "    return z_statistic, p_value\n",
        "\n",
        "# Example usage\n",
        "successes1 = 50  # Number of successes in group 1\n",
        "successes2 = 70  # Number of successes in group 2\n",
        "nobs1 = 100   # Total number of observations in group 1\n",
        "nobs2 = 150   # Total number of observations in group 2\n",
        "\n",
        "z_statistic, p_value = z_test_proportions(successes1, successes2, nobs1, nobs2)\n",
        "print(f\"Z-statistic: {z_statistic:.3f}\")\n",
        "print(f\"P-value: {p_value:.3f}\")\n",
        "\n",
        "# Interpret the results (example)\n",
        "alpha = 0.05\n",
        "if p_value < alpha:\n",
        "    print(\"Reject the null hypothesis: There is a significant difference in proportions.\")\n",
        "else:\n",
        "    print(\"Fail to reject the null hypothesis: No significant difference in proportions.\")\n"
      ],
      "metadata": {
        "colab": {
          "base_uri": "https://localhost:8080/"
        },
        "id": "dmtCF8283q8V",
        "outputId": "c8051988-5cb1-4ad1-d321-c85b1a2f2ff0"
      },
      "execution_count": null,
      "outputs": [
        {
          "output_type": "stream",
          "name": "stdout",
          "text": [
            "Z-statistic: 0.517\n",
            "P-value: 0.605\n",
            "Fail to reject the null hypothesis: No significant difference in proportions.\n"
          ]
        }
      ]
    },
    {
      "cell_type": "markdown",
      "source": [
        "26. Implement an F-test for comparing the variances of two datasets, then interpret and visualize the results."
      ],
      "metadata": {
        "id": "tcP9tGyj3r7U"
      }
    },
    {
      "cell_type": "code",
      "source": [
        "import matplotlib.pyplot as plt\n",
        "import numpy as np\n",
        "def f_test_variances(sample1, sample2, alpha=0.05):\n",
        "    \"\"\"\n",
        "    Performs an F-test to compare the variances of two samples.\n",
        "\n",
        "    Args:\n",
        "        sample1: A list or numpy array of data for the first sample.\n",
        "        sample2: A list or numpy array of data for the second sample.\n",
        "        alpha: Significance level (default is 0.05).\n",
        "\n",
        "    Returns:\n",
        "        A dictionary containing the F-statistic, p-value, degrees of freedom, and a conclusion.\n",
        "    \"\"\"\n",
        "\n",
        "    # Calculate the variances of the two samples\n",
        "    variance1 = np.var(sample1, ddof=1)  # ddof=1 for unbiased estimate\n",
        "    variance2 = np.var(sample2, ddof=1)\n",
        "\n",
        "    # Calculate the F-statistic\n",
        "    f_statistic = variance1 / variance2  # Assuming variance1 is larger\n",
        "\n",
        "    # Calculate the degrees of freedom\n",
        "    df1 = len(sample1) - 1\n",
        "    df2 = len(sample2) - 1\n",
        "\n",
        "    # Calculate the p-value (two-tailed test)\n",
        "    p_value = 2 * min(f.cdf(f_statistic, df1, df2), 1 - f.cdf(f_statistic, df1, df2))\n",
        "\n",
        "    # Determine the conclusion based on the p-value and significance level\n",
        "    conclusion = \"Fail to reject the null hypothesis (variances are equal).\"\n",
        "    if p_value < alpha:\n",
        "        conclusion = \"Reject the null hypothesis (variances are not equal).\"\n",
        "\n",
        "    return {\n",
        "        \"f_statistic\": f_statistic,\n",
        "        \"p_value\": p_value,\n",
        "        \"df1\": df1,\n",
        "        \"df2\": df2,\n",
        "        \"conclusion\": conclusion\n",
        "    }\n",
        "\n",
        "\n",
        "# Example usage:\n",
        "np.random.seed(42)  # for reproducibility\n",
        "sample1 = np.random.normal(loc=10, scale=2, size=30)\n",
        "sample2 = np.random.normal(loc=12, scale=3, size=25)\n",
        "\n",
        "results = f_test_variances(sample1, sample2)\n",
        "print(results)\n",
        "\n",
        "# Visualization (F-distribution)\n",
        "df1 = results['df1']\n",
        "df2 = results['df2']\n",
        "x = np.linspace(0, 5, 500)\n",
        "plt.plot(x, f.pdf(x, df1, df2), label='F-distribution (df1={}, df2={})'.format(df1,df2))\n",
        "plt.axvline(results['f_statistic'], color='red', linestyle='dashed', linewidth=1, label='F-statistic')\n",
        "plt.xlabel('F-statistic')\n",
        "plt.ylabel('Probability Density')\n",
        "plt.title('F-test for Variances')\n",
        "plt.legend()\n",
        "plt.show()\n"
      ],
      "metadata": {
        "colab": {
          "base_uri": "https://localhost:8080/",
          "height": 509
        },
        "id": "03B52GpI3sl3",
        "outputId": "d3db96aa-92f3-4bff-b194-ce41fea36414"
      },
      "execution_count": null,
      "outputs": [
        {
          "output_type": "stream",
          "name": "stdout",
          "text": [
            "{'f_statistic': np.float64(0.3934384799386656), 'p_value': np.float64(0.017655209061597635), 'df1': 29, 'df2': 24, 'conclusion': 'Reject the null hypothesis (variances are not equal).'}\n"
          ]
        },
        {
          "output_type": "display_data",
          "data": {
            "text/plain": [
              "<Figure size 640x480 with 1 Axes>"
            ],
            "image/png": "[encoded data removed]"
          },
          "metadata": {}
        }
      ]
    },
    {
      "cell_type": "markdown",
      "source": [
        "27. Perform a Chi-square test for goodness of fit with simulated data and analyze the results."
      ],
      "metadata": {
        "id": "-hmflEaM3tAR"
      }
    },
    {
      "cell_type": "code",
      "source": [
        "import numpy as np\n",
        "# Observed frequencies (replace with your actual data)\n",
        "observed = np.array([20, 25, 30, 25])\n",
        "\n",
        "# Expected frequencies (replace with your expected distribution)\n",
        "expected = np.array([22, 28, 28, 22])\n",
        "\n",
        "# Perform the Chi-square test\n",
        "chi2_statistic, p_value = chisquare(observed, f_exp=expected)\n",
        "\n",
        "print(f\"Chi-square statistic: {chi2_statistic:.3f}\")\n",
        "print(f\"P-value: {p_value:.3f}\")\n",
        "\n",
        "# Interpret the results\n",
        "alpha = 0.05\n",
        "if p_value < alpha:\n",
        "    print(\"Reject the null hypothesis: The observed data does not fit the expected distribution.\")\n",
        "else:\n",
        "    print(\"Fail to reject the null hypothesis: The observed data fits the expected distribution.\")\n"
      ],
      "metadata": {
        "colab": {
          "base_uri": "https://localhost:8080/"
        },
        "id": "RbtxrsOV3tlY",
        "outputId": "eb04adea-1355-4bb4-e747-cfd71a935bbe"
      },
      "execution_count": null,
      "outputs": [
        {
          "output_type": "stream",
          "name": "stdout",
          "text": [
            "Chi-square statistic: 1.055\n",
            "P-value: 0.788\n",
            "Fail to reject the null hypothesis: The observed data fits the expected distribution.\n"
          ]
        }
      ]
    }
  ]
}